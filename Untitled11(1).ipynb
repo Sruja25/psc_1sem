{
 "cells": [
  {
   "cell_type": "code",
   "execution_count": 24,
   "id": "1a0e6a1e-bb2d-4d52-9343-fa1ee535a898",
   "metadata": {},
   "outputs": [],
   "source": [
    "name = \"SruJa HardIkar\""
   ]
  },
  {
   "cell_type": "code",
   "execution_count": 11,
   "id": "b6c945d1-9ec5-4b1d-96c2-fbeec454f8b9",
   "metadata": {},
   "outputs": [],
   "source": [
    "#convert capital to small and small to Capital"
   ]
  },
  {
   "cell_type": "code",
   "execution_count": 25,
   "id": "47b4f975-2241-4d96-b1c8-bcbc02b7f423",
   "metadata": {},
   "outputs": [
    {
     "data": {
      "text/plain": [
       "'SruJa HardIkar'"
      ]
     },
     "execution_count": 25,
     "metadata": {},
     "output_type": "execute_result"
    }
   ],
   "source": [
    "name"
   ]
  },
  {
   "cell_type": "code",
   "execution_count": 26,
   "id": "a0374971-9ce3-42a5-af5a-e687469ef1c0",
   "metadata": {},
   "outputs": [
    {
     "data": {
      "text/plain": [
       "'sRUjA hARDiKAR'"
      ]
     },
     "execution_count": 26,
     "metadata": {},
     "output_type": "execute_result"
    }
   ],
   "source": [
    "name.swapcase()"
   ]
  },
  {
   "cell_type": "code",
   "execution_count": 27,
   "id": "932e29d4-ce40-47a3-9328-4e96e3aa6ee5",
   "metadata": {},
   "outputs": [],
   "source": [
    "name = name.swapcase()"
   ]
  },
  {
   "cell_type": "code",
   "execution_count": 28,
   "id": "71c84a1c-f559-4d3e-87e3-de88ca4b5b13",
   "metadata": {},
   "outputs": [
    {
     "data": {
      "text/plain": [
       "'sRUjA hARDiKAR'"
      ]
     },
     "execution_count": 28,
     "metadata": {},
     "output_type": "execute_result"
    }
   ],
   "source": [
    "name"
   ]
  },
  {
   "cell_type": "code",
   "execution_count": 30,
   "id": "a8baad6c-266d-425f-af34-e74fb4c483c1",
   "metadata": {},
   "outputs": [
    {
     "data": {
      "text/plain": [
       "'s@R@U@j@A@ @h@A@R@D@i@K@A@R'"
      ]
     },
     "execution_count": 30,
     "metadata": {},
     "output_type": "execute_result"
    }
   ],
   "source": [
    "\"@\".join(name)"
   ]
  },
  {
   "cell_type": "code",
   "execution_count": 32,
   "id": "1220e90a-6f60-455b-b456-69428202189f",
   "metadata": {},
   "outputs": [],
   "source": [
    "d = 154267"
   ]
  },
  {
   "cell_type": "code",
   "execution_count": 34,
   "id": "3b2dd454-2e39-4a20-86f5-6ed20f724574",
   "metadata": {},
   "outputs": [
    {
     "data": {
      "text/plain": [
       "<function int.is_integer()>"
      ]
     },
     "execution_count": 34,
     "metadata": {},
     "output_type": "execute_result"
    }
   ],
   "source": [
    "d.is_integer"
   ]
  },
  {
   "cell_type": "code",
   "execution_count": null,
   "id": "b2ee3556-11b1-4a08-84fa-6a239f803b7f",
   "metadata": {},
   "outputs": [],
   "source": []
  },
  {
   "cell_type": "code",
   "execution_count": 44,
   "id": "632276a6-e37c-4c26-abf9-81b6a7616a43",
   "metadata": {},
   "outputs": [],
   "source": [
    "name1 = \"SRujaHarDikar\""
   ]
  },
  {
   "cell_type": "code",
   "execution_count": 45,
   "id": "c0644c9a-bef2-4ea2-b316-7ba167b107a7",
   "metadata": {},
   "outputs": [
    {
     "data": {
      "text/plain": [
       "True"
      ]
     },
     "execution_count": 45,
     "metadata": {},
     "output_type": "execute_result"
    }
   ],
   "source": [
    "name1.isalpha()"
   ]
  },
  {
   "cell_type": "code",
   "execution_count": 46,
   "id": "8673886b-3d58-413f-90a1-4f1c8cfc72c4",
   "metadata": {},
   "outputs": [
    {
     "data": {
      "text/plain": [
       "True"
      ]
     },
     "execution_count": 46,
     "metadata": {},
     "output_type": "execute_result"
    }
   ],
   "source": [
    "name1.isalnum()"
   ]
  },
  {
   "cell_type": "code",
   "execution_count": 48,
   "id": "4589f063-1c04-46c1-8310-19e1d7098a91",
   "metadata": {},
   "outputs": [
    {
     "data": {
      "text/plain": [
       "True"
      ]
     },
     "execution_count": 48,
     "metadata": {},
     "output_type": "execute_result"
    }
   ],
   "source": [
    "name1.startswith('S')"
   ]
  },
  {
   "cell_type": "code",
   "execution_count": null,
   "id": "48c65489-9340-42f5-b7b1-fa9881d3d5d5",
   "metadata": {},
   "outputs": [],
   "source": []
  }
 ],
 "metadata": {
  "kernelspec": {
   "display_name": "Python 3 (ipykernel)",
   "language": "python",
   "name": "python3"
  },
  "language_info": {
   "codemirror_mode": {
    "name": "ipython",
    "version": 3
   },
   "file_extension": ".py",
   "mimetype": "text/x-python",
   "name": "python",
   "nbconvert_exporter": "python",
   "pygments_lexer": "ipython3",
   "version": "3.12.4"
  }
 },
 "nbformat": 4,
 "nbformat_minor": 5
}
